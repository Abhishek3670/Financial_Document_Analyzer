{
 "cells": [
  {
   "cell_type": "markdown",
   "metadata": {},
   "source": [
    "\n"
   ]
  },
  {
   "cell_type": "code",
   "execution_count": 1,
   "metadata": {},
   "outputs": [
    {
     "name": "stdout",
     "output_type": "stream",
     "text": [
      "crewai version: 0.130.0\n"
     ]
    }
   ],
   "source": [
    "try:\n",
    "    import crewai\n",
    "    import crewai_tools\n",
    "    from crewai import LLM\n",
    "    print(\"crewai version:\", crewai.__version__)\n",
    "except Exception as e:\n",
    "    import sys, traceback\n",
    "    print(\"Import failed:\", e)\n",
    "    traceback.print_exc()\n",
    "    raise\n"
   ]
  },
  {
   "cell_type": "code",
   "execution_count": 11,
   "metadata": {},
   "outputs": [
    {
     "data": {
      "text/plain": [
       "True"
      ]
     },
     "execution_count": 11,
     "metadata": {},
     "output_type": "execute_result"
    }
   ],
   "source": [
    "from dotenv import load_dotenv\n",
    "load_dotenv()"
   ]
  },
  {
   "cell_type": "code",
   "execution_count": 12,
   "metadata": {},
   "outputs": [
    {
     "data": {
      "text/plain": [
       "' ML stands for Machine Learning, which is a subset of artificial intelligence (AI) focused on building systems that can learn from and make decisions or predictions based on data. Machine learning algorithms use statistical techniques to enable computers to improve their performance on a specific task over time without being explicitly programmed for that task.\\n\\nMachine learning has various applications, including image and speech recognition, natural language processing, recommendation systems, and predictive analytics. It is a rapidly growing field with significant potential to transform industries and improve our daily lives.\\n\\nThere are three main types of machine learning:\\n\\n1. Supervised learning: In this type of machine learning, the algorithm is trained on a labeled dataset, where the correct output is provided for each input. The algorithm learns to map inputs to outputs based on this training data, and can then make predictions on new, unseen data.\\n2. Unsupervised learning: In this type of machine learning, the algorithm is trained on an unlabeled dataset, where the correct output is not provided. The algorithm learns to identify patterns and relationships in the data, and can then make predictions or classifications based on these patterns.\\n3. Reinforcement learning: In this type of machine learning, the algorithm learns by interacting with an environment and receiving feedback in the form of rewards or penalties. The algorithm learns to make decisions that maximize the cumulative reward over time.\\n\\nMachine learning is a powerful tool that can be used to solve complex problems and make predictions with high accuracy. However, it is important to note that machine learning algorithms are not perfect and can be subject to bias and errors. Therefore, it is important to carefully evaluate and validate machine learning models before deploying them in real-world applications.'"
      ]
     },
     "execution_count": 12,
     "metadata": {},
     "output_type": "execute_result"
    }
   ],
   "source": [
    "from pyexpat import model\n",
    "from crewai import LLM\n",
    "import os\n",
    "\n",
    "model_name = os.getenv(\"MODEL\")\n",
    "if model_name is None:\n",
    "    raise ValueError(\"Environment variable 'MODEL' is not set. Please set it in your .env file.\")\n",
    "\n",
    "llm = LLM(\n",
    "    model=model_name,\n",
    "    temperature=0.1,\n",
    "    api_key=os.getenv(\"NVIDIA_NIM_API_KEY\"),\n",
    ")\n",
    "\n",
    "llm.call(\"What is ML\")"
   ]
  },
  {
   "cell_type": "markdown",
   "metadata": {},
   "source": []
  },
  {
   "cell_type": "code",
   "execution_count": 3,
   "metadata": {},
   "outputs": [],
   "source": [
    "from crewai import Crew, Process\n",
    "from agents import financial_analyst\n",
    "from task import comprehensive_financial_analysis\n",
    "\n"
   ]
  },
  {
   "cell_type": "code",
   "execution_count": 5,
   "metadata": {},
   "outputs": [],
   "source": [
    "crew = Crew(\n",
    "    agents=[financial_analyst],\n",
    "    tasks=[comprehensive_financial_analysis],\n",
    "    process=Process.sequential\n",
    ")"
   ]
  },
  {
   "cell_type": "code",
   "execution_count": 6,
   "metadata": {},
   "outputs": [
    {
     "name": "stdout",
     "output_type": "stream",
     "text": [
      "\u001b[1m\u001b[95m# Agent:\u001b[00m \u001b[1m\u001b[92mSenior Financial Analyst\u001b[00m\n",
      "\u001b[95m## Task:\u001b[00m \u001b[92m\n",
      "    Analyze the financial document at \"data/TSLA-Q2-2025-Update.pdf\" and provide a comprehensive financial analysis for: \"Analyze Tesla Q2 2025 earnings\"\n",
      "\n",
      "    Your analysis should include:\n",
      "    1. Executive Summary with key findings\n",
      "    2. Revenue and Profitability Analysis with specific figures\n",
      "    3. Financial Position Assessment \n",
      "    4. Investment Recommendation with rationale\n",
      "    5. Risk Assessment\n",
      "\n",
      "    Use the Financial Document Reader tool to read the document first, then provide your analysis.\n",
      "    Be thorough and include specific numbers from the document.\n",
      "    \u001b[00m\n",
      "\n",
      "\n",
      "\u001b[1m\u001b[95m# Agent:\u001b[00m \u001b[1m\u001b[92mSenior Financial Analyst\u001b[00m\n",
      "\u001b[95m## Final Answer:\u001b[00m \u001b[92m\n",
      " ```\n",
      "   over\u001b[00m\n",
      "\n",
      "\n",
      " ```\n",
      "   over\n",
      "\n",
      "\n",
      "\u001b[1m\u001b[95m# Agent:\u001b[00m \u001b[1m\u001b[92mSenior Financial Analyst\u001b[00m\n",
      "\u001b[95m## Final Answer:\u001b[00m \u001b[92m\n",
      " ```\n",
      "   over\u001b[00m\n",
      "\n",
      "\n",
      " ```\n",
      "   over\n"
     ]
    }
   ],
   "source": [
    "result = crew.kickoff({'query': 'Analyze Tesla Q2 2025 earnings', 'file_path': 'data/TSLA-Q2-2025-Update.pdf'})\n",
    "print(result)"
   ]
  }
 ],
 "metadata": {
  "kernelspec": {
   "display_name": "wingily-project",
   "language": "python",
   "name": "python3"
  },
  "language_info": {
   "codemirror_mode": {
    "name": "ipython",
    "version": 3
   },
   "file_extension": ".py",
   "mimetype": "text/x-python",
   "name": "python",
   "nbconvert_exporter": "python",
   "pygments_lexer": "ipython3",
   "version": "3.11.13"
  }
 },
 "nbformat": 4,
 "nbformat_minor": 2
}
